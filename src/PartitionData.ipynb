{
 "cells": [
  {
   "cell_type": "code",
   "execution_count": 31,
   "metadata": {},
   "outputs": [],
   "source": [
    "import json \n",
    "from random import sample \n",
    "import collections"
   ]
  },
  {
   "cell_type": "code",
   "execution_count": 2,
   "metadata": {},
   "outputs": [],
   "source": [
    "train_file = open(\"drop_dataset_train.json\")"
   ]
  },
  {
   "cell_type": "code",
   "execution_count": 3,
   "metadata": {},
   "outputs": [],
   "source": [
    "train = json.load(train_file)"
   ]
  },
  {
   "cell_type": "code",
   "execution_count": 6,
   "metadata": {},
   "outputs": [],
   "source": [
    "train_val_keys = sample(train.keys(), int(len(train.keys())*0.15))"
   ]
  },
  {
   "cell_type": "code",
   "execution_count": 8,
   "metadata": {},
   "outputs": [],
   "source": [
    "train_train_keys = [x for x in train.keys() if x not in train_val_keys]"
   ]
  },
  {
   "cell_type": "code",
   "execution_count": 18,
   "metadata": {},
   "outputs": [],
   "source": [
    "train_val = train.copy()\n",
    "train_train = train.copy()"
   ]
  },
  {
   "cell_type": "code",
   "execution_count": 19,
   "metadata": {},
   "outputs": [],
   "source": [
    "_ = [train_train.pop(x) for x in train_val_keys]"
   ]
  },
  {
   "cell_type": "code",
   "execution_count": 20,
   "metadata": {},
   "outputs": [],
   "source": [
    "_ = [train_val.pop(x) for x in train_train_keys]"
   ]
  },
  {
   "cell_type": "code",
   "execution_count": 21,
   "metadata": {},
   "outputs": [
    {
     "data": {
      "text/plain": [
       "834"
      ]
     },
     "execution_count": 21,
     "metadata": {},
     "output_type": "execute_result"
    }
   ],
   "source": [
    "len(train_val.keys())"
   ]
  },
  {
   "cell_type": "code",
   "execution_count": 22,
   "metadata": {},
   "outputs": [
    {
     "data": {
      "text/plain": [
       "4731"
      ]
     },
     "execution_count": 22,
     "metadata": {},
     "output_type": "execute_result"
    }
   ],
   "source": [
    "len(train_train.keys())"
   ]
  },
  {
   "cell_type": "code",
   "execution_count": 23,
   "metadata": {},
   "outputs": [
    {
     "data": {
      "text/plain": [
       "5565"
      ]
     },
     "execution_count": 23,
     "metadata": {},
     "output_type": "execute_result"
    }
   ],
   "source": [
    "len(train_val.keys()) + len(train_train.keys())"
   ]
  },
  {
   "cell_type": "markdown",
   "metadata": {},
   "source": [
    "### Check distribution"
   ]
  },
  {
   "cell_type": "code",
   "execution_count": 39,
   "metadata": {},
   "outputs": [],
   "source": [
    "def getDistribution(jsonObj):\n",
    "    res = []\n",
    "    for k in jsonObj:\n",
    "        for elem in jsonObj[k]['qa_pairs']:\n",
    "            question = elem['question']\n",
    "            answer_type = \"\" \n",
    "            for key in elem['answer']:\n",
    "                if (key == 'number') and (len(elem['answer'][key]) != 0):\n",
    "                    answer_type = \"number\"\n",
    "                    break\n",
    "\n",
    "                if (key == 'spans') and (len(elem['answer'][key]) != 0):\n",
    "                    answer_type = \"spans\"\n",
    "                    break\n",
    "                answer_type = 'date'  \n",
    "            res.append(answer_type)\n",
    "    return res"
   ]
  },
  {
   "cell_type": "code",
   "execution_count": 42,
   "metadata": {},
   "outputs": [],
   "source": [
    "train_val_dist = collections.Counter(getDistribution(train_val))"
   ]
  },
  {
   "cell_type": "code",
   "execution_count": 43,
   "metadata": {},
   "outputs": [],
   "source": [
    "train_train_dist = collections.Counter(getDistribution(train_train))"
   ]
  },
  {
   "cell_type": "code",
   "execution_count": 50,
   "metadata": {},
   "outputs": [
    {
     "name": "stdout",
     "output_type": "stream",
     "text": [
      "Val distribution (%)\n",
      "number 0.6145522705972566\n",
      "spans 0.37011161284825767\n",
      "date 0.015336116554485813\n"
     ]
    }
   ],
   "source": [
    "sum_train_val = sum([train_val_dist[x] for x in train_val_dist])\n",
    "print(\"Val distribution (%)\")\n",
    "_ = [print(key, train_val_dist[key]/sum_train_val) for key in train_val_dist]\n"
   ]
  },
  {
   "cell_type": "code",
   "execution_count": 51,
   "metadata": {},
   "outputs": [
    {
     "name": "stdout",
     "output_type": "stream",
     "text": [
      "Train distribution (%)\n",
      "number 0.6054330612742113\n",
      "spans 0.3784108904860519\n",
      "date 0.016156048239736875\n"
     ]
    }
   ],
   "source": [
    "sum_train_train = sum([train_train_dist[x] for x in train_train_dist])\n",
    "print(\"Train distribution (%)\")\n",
    "_ = [print(key, train_train_dist[key]/sum_train_train) for key in train_train_dist]"
   ]
  },
  {
   "cell_type": "code",
   "execution_count": 52,
   "metadata": {},
   "outputs": [],
   "source": [
    "with open('drop_dataset_train_train.json', 'w') as outfile:\n",
    "    json.dump(train_train, outfile)"
   ]
  },
  {
   "cell_type": "code",
   "execution_count": 53,
   "metadata": {},
   "outputs": [],
   "source": [
    "with open('drop_dataset_train_val.json', 'w') as outfile:\n",
    "    json.dump(train_val, outfile)"
   ]
  },
  {
   "cell_type": "code",
   "execution_count": null,
   "metadata": {},
   "outputs": [],
   "source": []
  }
 ],
 "metadata": {
  "kernelspec": {
   "display_name": "Python 3",
   "language": "python",
   "name": "python3"
  },
  "language_info": {
   "codemirror_mode": {
    "name": "ipython",
    "version": 3
   },
   "file_extension": ".py",
   "mimetype": "text/x-python",
   "name": "python",
   "nbconvert_exporter": "python",
   "pygments_lexer": "ipython3",
   "version": "3.7.2"
  }
 },
 "nbformat": 4,
 "nbformat_minor": 2
}
